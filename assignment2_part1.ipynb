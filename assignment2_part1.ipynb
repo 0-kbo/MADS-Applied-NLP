{
 "cells": [
  {
   "cell_type": "markdown",
   "metadata": {},
   "source": [
    "# Exercise 2.1 - Train and Explore Word Vectors"
   ]
  },
  {
   "cell_type": "markdown",
   "metadata": {},
   "source": [
    "# Working with word vectors\n",
    "What's the NBA of baseball? One way to answer this is to form an analogy: basketball is to NBA as baseball is to ... ? The answer is MLB (Major League Baseball). One of the more interested developments in the past decade for NLP has been new methods for learning word vectors that encode both the meaning of words _and_ relational knowledge to solve these kinds of analogy tests. In this notebook, you'll see how these work for yourself!\n",
    "\n",
    "The homework is broken up in several steps of preprocessing code (a constant fact of life for NLP), training a [word2vec](https://en.wikipedia.org/wiki/Word2vec) model using the [gensim](https://radimrehurek.com/gensim_3.8.3/models/word2vec.html) library and then exploring what the vectors have learned. For this notebook, you'll only train on a small set of the data to keep it quick (though this still learns a lot, as you'll see!); we've pre-computed a word2vec model for you on the full data as well, which you will use later in your evaluations. If you want to read up a bit more on word2vec, there's many great [blog](https://israelg99.github.io/2017-03-23-Word2Vec-Explained/) [posts](http://mccormickml.com/2016/04/19/word2vec-tutorial-the-skip-gram-model/) and you could check out the [original paper](https://arxiv.org/pdf/1301.3781.pdf)\n",
    "\n",
    "This notebook will show you how to train your own vectors in the future too. Methods that learn distributional word vectors (like word2vec, LSA, or even counting) depend on the corpus they're trained on. Here, we're using our list of Wikipedia biographies. This corpus is quite rich in people, places, occupations, and all the things that people do. What all might a model learn from this? You'll see some of it in the tests we have prepared for you, but the model will know a lot more than what we've shown. Once you finish the core tasks, in your own exploration see what else the model has learned. Are there new types of analogies it encodes?\n",
    "\n",
    "As usual in NLP, there are many options and hyperparameters to choose for word2vec. We've chosen a few to show you here (e.g., tokenization options) to help you get started exploring the space. You can try training on more data, adjust the window size, or the minimum token frequency to see how these impact performance and what the model learns. If you discover something interesting, feel free to discuss!\n",
    "\n",
    "Finally, if you're feeling ambitious, try plotting pairs of words that have the same relationship, e.g., \"NBA\", \"basketball\", \"MLB\" and \"baseball\" and see if they have a geometric  relationship. As an example of this type of plot, see the plots for the word2vec alternative [glove](https://nlp.stanford.edu/projects/glove/) that also encodes this type of information. For plotting, try showing the first two principle components of the vectors (you'll first need to run PCA) or use [t-SNE](https://scikit-learn.org/stable/modules/generated/sklearn.manifold.TSNE.html). If you make any interesting plots or discover something cool, please feel free to share in Slack!"
   ]
  },
  {
   "cell_type": "code",
   "execution_count": 1,
   "metadata": {},
   "outputs": [],
   "source": [
    "import gensim\n",
    "import gzip\n",
    "import json\n",
    "import matplotlib.pyplot as plt\n",
    "import numpy as np\n",
    "import pickle\n",
    "import re\n",
    "import pandas as pd\n",
    "from tqdm.notebook import tqdm\n",
    "from gensim.models.word2vec import Word2Vec\n",
    "from collections import Counter\n",
    "from nltk.tokenize import sent_tokenize, word_tokenize\n",
    "from gensim.test.utils import datapath"
   ]
  },
  {
   "cell_type": "code",
   "execution_count": 2,
   "metadata": {},
   "outputs": [],
   "source": [
    "RANDOM_SEED = 655"
   ]
  },
  {
   "cell_type": "markdown",
   "metadata": {},
   "source": [
    "To reduce the burden on memory, we use only the first 10,000 biographies and save them into a list that we'll call `bios`. We've pre-saved them as a pickle object `bios.p` so that you can load it directly."
   ]
  },
  {
   "cell_type": "code",
   "execution_count": 3,
   "metadata": {},
   "outputs": [],
   "source": [
    "bios = []\n",
    "with open('assets/bios.p', 'rb') as f:\n",
    "    bios = pickle.load(f)"
   ]
  },
  {
   "cell_type": "code",
   "execution_count": 4,
   "metadata": {},
   "outputs": [
    {
     "data": {
      "text/plain": [
       "80159703"
      ]
     },
     "execution_count": 4,
     "metadata": {},
     "output_type": "execute_result"
    }
   ],
   "source": [
    "count = 0\n",
    "for bio in bios:\n",
    "    for word in bio:\n",
    "        count += 1\n",
    "    \n",
    "count"
   ]
  },
  {
   "cell_type": "code",
   "execution_count": null,
   "metadata": {},
   "outputs": [],
   "source": []
  },
  {
   "cell_type": "markdown",
   "metadata": {},
   "source": [
    "Use nltk `word_tokenize` to split the biographies in `bios` into words and each bio's words as a separate list into a list called `nltk_tokenized_bios`. Try wrapping these in a `tqdm` call to see how long it takes"
   ]
  },
  {
   "cell_type": "code",
   "execution_count": 5,
   "metadata": {
    "deletable": false,
    "nbgrader": {
     "cell_type": "code",
     "checksum": "35dc1b130cf4f5a1f53ae8ed5b1a3572",
     "grade": false,
     "grade_id": "cell-ee0113aacf9b88ae",
     "locked": false,
     "schema_version": 3,
     "solution": true
    }
   },
   "outputs": [
    {
     "data": {
      "application/vnd.jupyter.widget-view+json": {
       "model_id": "f67e049e90c8464794468cce91425642",
       "version_major": 2,
       "version_minor": 0
      },
      "text/plain": [
       "HBox(children=(HTML(value=''), FloatProgress(value=0.0, max=10000.0), HTML(value='')))"
      ]
     },
     "metadata": {},
     "output_type": "display_data"
    },
    {
     "name": "stdout",
     "output_type": "stream",
     "text": [
      "\n"
     ]
    }
   ],
   "source": [
    "# YOUR CODE HERE\n",
    "# raise NotImplementedError()\n",
    "\n",
    "nltk_tokenized_bios = []\n",
    "\n",
    "for bio in tqdm(bios):\n",
    "    \n",
    "    nltk_tokenized_bios.append(word_tokenize(bio))\n",
    "        "
   ]
  },
  {
   "cell_type": "markdown",
   "metadata": {},
   "source": [
    "Let's compare NLTK's tokenization with a regular expression-based extraction. Write a regular expression to find all sequences of word characters (`\\w+`) for each biography in `bios` into words and each bio's words as a separate list into a list called `re_tokenized_bios`. Try wrapping these in a `tqdm` call to see how long it takes. "
   ]
  },
  {
   "cell_type": "code",
   "execution_count": 6,
   "metadata": {
    "deletable": false,
    "nbgrader": {
     "cell_type": "code",
     "checksum": "53df9e867c09cd34e7a5b20ae1a561d0",
     "grade": false,
     "grade_id": "cell-cee05145ae73b804",
     "locked": false,
     "schema_version": 3,
     "solution": true
    }
   },
   "outputs": [
    {
     "data": {
      "application/vnd.jupyter.widget-view+json": {
       "model_id": "0f58fc2d86d24a1b9c9494be1756defe",
       "version_major": 2,
       "version_minor": 0
      },
      "text/plain": [
       "HBox(children=(HTML(value=''), FloatProgress(value=0.0, max=10000.0), HTML(value='')))"
      ]
     },
     "metadata": {},
     "output_type": "display_data"
    },
    {
     "name": "stdout",
     "output_type": "stream",
     "text": [
      "\n"
     ]
    }
   ],
   "source": [
    "# YOUR CODE HERE\n",
    "# raise NotImplementedError()\n",
    "\n",
    "re_tokenized_bios = []\n",
    "\n",
    "for bio in tqdm(bios):\n",
    "#     temp_list = []\n",
    "    re_tokenized_bios.append(re.findall(r'\\w+',bio))\n",
    "#     re_tokenized_bios.append(temp_list)"
   ]
  },
  {
   "cell_type": "markdown",
   "metadata": {},
   "source": [
    "A surprising speed difference! Let's count how many unique tokens we found from each. Use a `Counter` to count the number of unique words for each and call these `nltk_word_counts` and `re_word_counts` "
   ]
  },
  {
   "cell_type": "code",
   "execution_count": 7,
   "metadata": {
    "deletable": false,
    "nbgrader": {
     "cell_type": "code",
     "checksum": "4a2d6fcc9465c47294141832ac666c8c",
     "grade": false,
     "grade_id": "cell-686a39e7f44a07fb",
     "locked": false,
     "schema_version": 3,
     "solution": true
    }
   },
   "outputs": [],
   "source": [
    "# YOUR CODE HERE\n",
    "# raise NotImplementedError()\n",
    "\n",
    "nltk_word_counts = Counter()\n",
    "for bio in nltk_tokenized_bios:\n",
    "#     for word in bio:\n",
    "    nltk_word_counts.update(bio)\n",
    "\n",
    "re_word_counts = Counter()\n",
    "for bio in re_tokenized_bios:\n",
    "#     for word in bio:\n",
    "    re_word_counts.update(bio)"
   ]
  },
  {
   "cell_type": "code",
   "execution_count": 8,
   "metadata": {},
   "outputs": [
    {
     "data": {
      "text/plain": [
       "(294549, 219293)"
      ]
     },
     "execution_count": 8,
     "metadata": {},
     "output_type": "execute_result"
    }
   ],
   "source": [
    "len(nltk_word_counts), len(re_word_counts)"
   ]
  },
  {
   "cell_type": "code",
   "execution_count": 9,
   "metadata": {
    "deletable": false,
    "editable": false,
    "nbgrader": {
     "cell_type": "code",
     "checksum": "f734c0cb714144c8e5439ff8d4fb44f3",
     "grade": true,
     "grade_id": "cell-f2e29134fae0ac68",
     "locked": true,
     "points": 1,
     "schema_version": 3,
     "solution": false
    }
   },
   "outputs": [],
   "source": [
    "#hidden tests are within this cell"
   ]
  },
  {
   "cell_type": "markdown",
   "metadata": {},
   "source": [
    "Let's see what common words we missed through the imprecise regex matching. Create another `Counter` that contains the counts of all words not in `re_word_counts` but `nltk_word_counts` and call this `unique_word_counts`\n",
    "\n",
    "HINT: familiarize with how to use “Counter” from collections. \n",
    "Documentation: https://docs.python.org/3/library/collections.html"
   ]
  },
  {
   "cell_type": "code",
   "execution_count": 10,
   "metadata": {
    "deletable": false,
    "nbgrader": {
     "cell_type": "code",
     "checksum": "7ab9c5657fe6cef1cbee0bacd460b8e9",
     "grade": false,
     "grade_id": "cell-b6e515d15e089fb7",
     "locked": false,
     "schema_version": 3,
     "solution": true
    }
   },
   "outputs": [],
   "source": [
    "# YOUR CODE HERE\n",
    "# raise NotImplementedError()\n",
    "\n",
    "re_set = set(re_word_counts)\n",
    "nltk_set = set(nltk_word_counts)\n",
    "\n",
    "unique_word_counts = nltk_word_counts.copy()\n",
    "\n",
    "for i in nltk_set:\n",
    "    if i in re_set:\n",
    "        del unique_word_counts[i]\n",
    "\n"
   ]
  },
  {
   "cell_type": "markdown",
   "metadata": {},
   "source": [
    "Print what are the 20 most common NLTK-unique words"
   ]
  },
  {
   "cell_type": "code",
   "execution_count": 11,
   "metadata": {
    "deletable": false,
    "nbgrader": {
     "cell_type": "code",
     "checksum": "1a1ca244365dae1c5f95a97109e65a23",
     "grade": false,
     "grade_id": "cell-732f653a18074a41",
     "locked": false,
     "schema_version": 3,
     "solution": true
    }
   },
   "outputs": [
    {
     "data": {
      "text/plain": [
       "[(',', 887165),\n",
       " ('.', 582162),\n",
       " (\"''\", 248064),\n",
       " ('``', 236619),\n",
       " (\"'s\", 138914),\n",
       " (')', 93269),\n",
       " ('(', 93204),\n",
       " (':', 28415),\n",
       " (';', 26840),\n",
       " (\"'\", 20367),\n",
       " ('===', 9769),\n",
       " ('–', 7365),\n",
       " ('$', 5738),\n",
       " ('...', 5621),\n",
       " (\"n't\", 5528),\n",
       " ('*', 4844),\n",
       " ('&', 3940),\n",
       " ('!', 3296),\n",
       " ('U.S.', 3165),\n",
       " ('St.', 2727)]"
      ]
     },
     "execution_count": 11,
     "metadata": {},
     "output_type": "execute_result"
    }
   ],
   "source": [
    "# YOUR CODE HERE\n",
    "# raise NotImplementedError()\n",
    "unique_word_counts.most_common(20)"
   ]
  },
  {
   "cell_type": "code",
   "execution_count": 12,
   "metadata": {},
   "outputs": [
    {
     "data": {
      "text/plain": [
       "81881"
      ]
     },
     "execution_count": 12,
     "metadata": {},
     "output_type": "execute_result"
    }
   ],
   "source": [
    "len(unique_word_counts)"
   ]
  },
  {
   "cell_type": "code",
   "execution_count": 13,
   "metadata": {
    "deletable": false,
    "editable": false,
    "nbgrader": {
     "cell_type": "code",
     "checksum": "4ed86c14043912b56a4ed98a69889d81",
     "grade": true,
     "grade_id": "cell-93f75cf1d604e3e1",
     "locked": true,
     "points": 1,
     "schema_version": 3,
     "solution": false
    }
   },
   "outputs": [],
   "source": [
    "#hidden tests are within this cell"
   ]
  },
  {
   "cell_type": "markdown",
   "metadata": {},
   "source": [
    "Interesting! Looks like we're mostly missing punctuation and a few abbreviations. In this case, we can probably get away with tokenizing with just a regex without missing too much. \n",
    "\n",
    "For simplicitly, let's treat the regex-based token as our final solution and label this as a list called `all_tokenized_bios` and call the `re_word_counts` as just `word_counts`"
   ]
  },
  {
   "cell_type": "code",
   "execution_count": 14,
   "metadata": {},
   "outputs": [],
   "source": [
    "all_tokenized_bios = re_tokenized_bios \n",
    "word_counts = re_word_counts"
   ]
  },
  {
   "cell_type": "code",
   "execution_count": 15,
   "metadata": {},
   "outputs": [
    {
     "data": {
      "text/plain": [
       "219293"
      ]
     },
     "execution_count": 15,
     "metadata": {},
     "output_type": "execute_result"
    }
   ],
   "source": [
    "len(word_counts)"
   ]
  },
  {
   "cell_type": "code",
   "execution_count": 16,
   "metadata": {
    "deletable": false,
    "editable": false,
    "nbgrader": {
     "cell_type": "code",
     "checksum": "de8065130e7fb8b592b5aee4f812bacb",
     "grade": true,
     "grade_id": "cell-a28af82a4d6f430c",
     "locked": true,
     "points": 1,
     "schema_version": 3,
     "solution": false
    }
   },
   "outputs": [],
   "source": [
    "#hidden tests are within this cell"
   ]
  },
  {
   "cell_type": "markdown",
   "metadata": {},
   "source": [
    "Since we're dealing with lots of named entities, we didn't lower-case anything when tokenizing, which lets us potentially separate out \"Apple\" (the company) from \"apple\" (the fruit). Did we add many tokens from doing this? Create another `Counter` called `lowercase_word_counts` that records all the lower-case word counts and print the number of unique words. How many new upper-case words did we learn?"
   ]
  },
  {
   "cell_type": "code",
   "execution_count": 19,
   "metadata": {
    "deletable": false,
    "nbgrader": {
     "cell_type": "code",
     "checksum": "9a3e5a7948e32964a16e955874aff7f2",
     "grade": false,
     "grade_id": "cell-480f8dc8276dd20a",
     "locked": false,
     "schema_version": 3,
     "solution": true
    }
   },
   "outputs": [
    {
     "data": {
      "text/plain": [
       "Counter({'early': 9935,\n",
       "         'life': 10,\n",
       "         'abraham': 377,\n",
       "         'lincoln': 779,\n",
       "         'was': 2,\n",
       "         'born': 4,\n",
       "         'on': 6,\n",
       "         'february': 5868,\n",
       "         '12': 3820,\n",
       "         '1809': 201,\n",
       "         'the': 24,\n",
       "         'second': 1536,\n",
       "         'child': 445,\n",
       "         'of': 25,\n",
       "         'thomas': 1,\n",
       "         'and': 12,\n",
       "         'nancy': 509,\n",
       "         'hanks': 199,\n",
       "         'in': 1,\n",
       "         'a': 14736,\n",
       "         'one': 7,\n",
       "         'room': 299,\n",
       "         'log': 1,\n",
       "         'cabin': 29,\n",
       "         'sinking': 67,\n",
       "         'spring': 958,\n",
       "         'farm': 753,\n",
       "         'near': 146,\n",
       "         'hodgenville': 3,\n",
       "         'kentucky': 457,\n",
       "         'he': 7,\n",
       "         'descendant': 1,\n",
       "         'samuel': 756,\n",
       "         'an': 2,\n",
       "         'englishman': 86,\n",
       "         'who': 7,\n",
       "         'migrated': 89,\n",
       "         'from': 3965,\n",
       "         'hingham': 5,\n",
       "         'norfolk': 244,\n",
       "         'to': 9,\n",
       "         'its': 1,\n",
       "         'namesake': 1,\n",
       "         'massachusetts': 1117,\n",
       "         '1638': 59,\n",
       "         'family': 1008,\n",
       "         'then': 623,\n",
       "         'west': 3315,\n",
       "         'passing': 24,\n",
       "         'through': 688,\n",
       "         'new': 2,\n",
       "         'jersey': 98,\n",
       "         'pennsylvania': 775,\n",
       "         'virginia': 2,\n",
       "         's': 4970,\n",
       "         'paternal': 702,\n",
       "         'grandparents': 431,\n",
       "         'his': 1,\n",
       "         'captain': 872,\n",
       "         'wife': 1,\n",
       "         'bathsheba': 14,\n",
       "         'née': 2,\n",
       "         'herring': 4,\n",
       "         'moved': 7,\n",
       "         'jefferson': 1,\n",
       "         'county': 350,\n",
       "         'killed': 42,\n",
       "         'indian': 2,\n",
       "         'raid': 3,\n",
       "         '1786': 127,\n",
       "         'children': 563,\n",
       "         'including': 10,\n",
       "         'eight': 151,\n",
       "         'year': 1,\n",
       "         'old': 1264,\n",
       "         'father': 2,\n",
       "         'witnessed': 314,\n",
       "         'attack': 69,\n",
       "         'worked': 4,\n",
       "         'at': 49,\n",
       "         'odd': 42,\n",
       "         'jobs': 85,\n",
       "         'tennessee': 563,\n",
       "         'before': 1154,\n",
       "         'settled': 2,\n",
       "         'hardin': 41,\n",
       "         '1800s': 20,\n",
       "         'heritage': 129,\n",
       "         'mother': 370,\n",
       "         'remains': 29,\n",
       "         'unclear': 1,\n",
       "         'but': 2038,\n",
       "         'it': 18,\n",
       "         'is': 7,\n",
       "         'widely': 9,\n",
       "         'assumed': 656,\n",
       "         'that': 2835,\n",
       "         'she': 14100,\n",
       "         'daughter': 1,\n",
       "         'lucy': 362,\n",
       "         'married': 203,\n",
       "         'june': 7262,\n",
       "         '1806': 195,\n",
       "         'washington': 2701,\n",
       "         'elizabethtown': 12,\n",
       "         'they': 2,\n",
       "         'had': 119,\n",
       "         'three': 1091,\n",
       "         'sarah': 2,\n",
       "         'died': 2,\n",
       "         'infant': 14,\n",
       "         'bought': 2,\n",
       "         'or': 7,\n",
       "         'leased': 1,\n",
       "         'farms': 15,\n",
       "         'losing': 33,\n",
       "         'all': 6,\n",
       "         'land': 467,\n",
       "         'court': 1403,\n",
       "         'disputes': 6,\n",
       "         'over': 874,\n",
       "         'property': 27,\n",
       "         'titles': 17,\n",
       "         '1816': 199,\n",
       "         'indiana': 543,\n",
       "         'where': 295,\n",
       "         'surveys': 5,\n",
       "         'were': 3,\n",
       "         'more': 1,\n",
       "         'reliable': 136,\n",
       "         'free': 1,\n",
       "         'non': 1,\n",
       "         'slaveholding': 1,\n",
       "         'territory': 130,\n",
       "         'unbroken': 5,\n",
       "         'forest': 489,\n",
       "         'hurricane': 21,\n",
       "         'township': 16,\n",
       "         'perry': 342,\n",
       "         '1860': 405,\n",
       "         'noted': 16,\n",
       "         'move': 4,\n",
       "         'partly': 36,\n",
       "         'account': 22,\n",
       "         'slavery': 65,\n",
       "         'mainly': 14,\n",
       "         'due': 435,\n",
       "         'title': 94,\n",
       "         'difficulties': 6,\n",
       "         'site': 57,\n",
       "         'grew': 3,\n",
       "         'up': 7,\n",
       "         'spencer': 291,\n",
       "         'as': 25,\n",
       "         'farmer': 71,\n",
       "         'cabinetmaker': 13,\n",
       "         'carpenter': 243,\n",
       "         'various': 96,\n",
       "         'times': 2120,\n",
       "         'owned': 3,\n",
       "         'livestock': 3,\n",
       "         'town': 594,\n",
       "         'lots': 7,\n",
       "         'paid': 20,\n",
       "         'taxes': 4,\n",
       "         'sat': 18,\n",
       "         'juries': 18,\n",
       "         'appraised': 6,\n",
       "         'estates': 74,\n",
       "         'served': 5,\n",
       "         'patrols': 16,\n",
       "         'members': 109,\n",
       "         'separate': 564,\n",
       "         'baptists': 22,\n",
       "         'church': 3146,\n",
       "         'which': 1,\n",
       "         'forbade': 98,\n",
       "         'alcohol': 11,\n",
       "         'dancing': 161,\n",
       "         'overcoming': 43,\n",
       "         'financial': 86,\n",
       "         'challenges': 2,\n",
       "         '1827': 224,\n",
       "         'obtained': 988,\n",
       "         'clear': 64,\n",
       "         'area': 90,\n",
       "         'became': 16,\n",
       "         'little': 1,\n",
       "         'pigeon': 19,\n",
       "         'creek': 6,\n",
       "         'community': 1298,\n",
       "         'death': 1,\n",
       "         'october': 7083,\n",
       "         '5': 5141,\n",
       "         '1818': 213,\n",
       "         'succumbed': 68,\n",
       "         'milk': 59,\n",
       "         'sickness': 4,\n",
       "         'leaving': 93,\n",
       "         '11': 3563,\n",
       "         'charge': 45,\n",
       "         'household': 64,\n",
       "         'her': 5,\n",
       "         '9': 3327,\n",
       "         '19': 2574,\n",
       "         'orphan': 16,\n",
       "         'cousin': 37,\n",
       "         'dennis': 382,\n",
       "         'ten': 9,\n",
       "         'years': 1,\n",
       "         'later': 3426,\n",
       "         'january': 6718,\n",
       "         '20': 3775,\n",
       "         '1828': 251,\n",
       "         'while': 4466,\n",
       "         'giving': 29,\n",
       "         'birth': 176,\n",
       "         'stillborn': 8,\n",
       "         'son': 24,\n",
       "         'devastating': 100,\n",
       "         'december': 6364,\n",
       "         '2': 7671,\n",
       "         '1819': 203,\n",
       "         'bush': 19,\n",
       "         'johnston': 206,\n",
       "         'widow': 45,\n",
       "         'with': 1,\n",
       "         'own': 8,\n",
       "         'close': 294,\n",
       "         'stepmother': 4,\n",
       "         'called': 107,\n",
       "         'disliked': 428,\n",
       "         'hard': 334,\n",
       "         'labor': 333,\n",
       "         'associated': 145,\n",
       "         'even': 663,\n",
       "         'said': 93,\n",
       "         'lazy': 12,\n",
       "         'for': 4,\n",
       "         'reading': 152,\n",
       "         'scribbling': 7,\n",
       "         'writing': 359,\n",
       "         'ciphering': 1,\n",
       "         'poetry': 2,\n",
       "         'etc': 1,\n",
       "         'acknowledged': 460,\n",
       "         'did': 87,\n",
       "         'not': 2,\n",
       "         'enjoy': 13,\n",
       "         'physical': 151,\n",
       "         'loved': 1,\n",
       "         'read': 85,\n",
       "         'education': 3738,\n",
       "         'illinois': 1,\n",
       "         'young': 5255,\n",
       "         'by': 1,\n",
       "         'alt': 11,\n",
       "         'statue': 153,\n",
       "         'sitting': 60,\n",
       "         'stump': 12,\n",
       "         'holding': 49,\n",
       "         'book': 848,\n",
       "         'open': 1263,\n",
       "         'lap': 6,\n",
       "         'mostly': 34,\n",
       "         'self': 176,\n",
       "         'educated': 35,\n",
       "         'except': 44,\n",
       "         'some': 1634,\n",
       "         'schooling': 7,\n",
       "         'itinerant': 6,\n",
       "         'teachers': 67,\n",
       "         'less': 134,\n",
       "         'than': 94,\n",
       "         'months': 30,\n",
       "         'aggregate': 1,\n",
       "         'persisted': 114,\n",
       "         'avid': 229,\n",
       "         'reader': 85,\n",
       "         'retained': 3,\n",
       "         'lifelong': 6,\n",
       "         'interest': 31,\n",
       "         'learning': 81,\n",
       "         'neighbors': 12,\n",
       "         'schoolmates': 38,\n",
       "         'recalled': 7,\n",
       "         'included': 26,\n",
       "         'king': 1,\n",
       "         'james': 1,\n",
       "         'bible': 14,\n",
       "         'aesop': 17,\n",
       "         'fables': 18,\n",
       "         'john': 11369,\n",
       "         'bunyan': 49,\n",
       "         'pilgrim': 15,\n",
       "         'progress': 1,\n",
       "         'daniel': 772,\n",
       "         'defoe': 26,\n",
       "         'robinson': 1121,\n",
       "         'crusoe': 19,\n",
       "         'autobiography': 1175,\n",
       "         'benjamin': 1,\n",
       "         'franklin': 2,\n",
       "         'teen': 108,\n",
       "         'took': 43,\n",
       "         'responsibility': 15,\n",
       "         'chores': 1,\n",
       "         'customarily': 14,\n",
       "         'gave': 10,\n",
       "         'earnings': 3,\n",
       "         'work': 2,\n",
       "         'outside': 93,\n",
       "         'home': 2,\n",
       "         'until': 253,\n",
       "         '21': 2502,\n",
       "         'tall': 66,\n",
       "         'strong': 111,\n",
       "         'athletic': 175,\n",
       "         'adept': 1,\n",
       "         'using': 141,\n",
       "         'ax': 2,\n",
       "         'gained': 1469,\n",
       "         'reputation': 11,\n",
       "         'strength': 17,\n",
       "         'audacity': 11,\n",
       "         'after': 13323,\n",
       "         'winning': 36,\n",
       "         'wrestling': 149,\n",
       "         'match': 124,\n",
       "         'renowned': 7,\n",
       "         'leader': 234,\n",
       "         'ruffians': 4,\n",
       "         'known': 92,\n",
       "         'clary': 14,\n",
       "         'grove': 16,\n",
       "         'boys': 643,\n",
       "         'march': 257,\n",
       "         '1830': 335,\n",
       "         'fearing': 61,\n",
       "         'another': 1135,\n",
       "         'outbreak': 8,\n",
       "         'several': 533,\n",
       "         'extended': 16,\n",
       "         'state': 2471,\n",
       "         'macon': 32,\n",
       "         'increasingly': 19,\n",
       "         'distant': 15,\n",
       "         'part': 367,\n",
       "         'lack': 7,\n",
       "         '1831': 271,\n",
       "         'other': 1,\n",
       "         'prepared': 6,\n",
       "         'homestead': 47,\n",
       "         'coles': 18,\n",
       "         'struck': 16,\n",
       "         'out': 2,\n",
       "         'made': 158,\n",
       "         'salem': 106,\n",
       "         'six': 396,\n",
       "         'friends': 404,\n",
       "         'goods': 2,\n",
       "         'flatboat': 2,\n",
       "         'orleans': 605,\n",
       "         'louisiana': 393,\n",
       "         'first': 14,\n",
       "         'exposed': 9,\n",
       "         'marriage': 5414,\n",
       "         'romantic': 99,\n",
       "         'ann': 636,\n",
       "         'rutledge': 10,\n",
       "         'whom': 1,\n",
       "         'met': 4,\n",
       "         'when': 6338,\n",
       "         '1835': 288,\n",
       "         'relationship': 39,\n",
       "         'formally': 5,\n",
       "         'engaged': 12,\n",
       "         'august': 1,\n",
       "         '25': 2931,\n",
       "         'most': 972,\n",
       "         'likely': 10,\n",
       "         'typhoid': 4,\n",
       "         'fever': 74,\n",
       "         '1830s': 71,\n",
       "         'mary': 3119,\n",
       "         'owens': 160,\n",
       "         'late': 4751,\n",
       "         '1836': 282,\n",
       "         'agreed': 1925,\n",
       "         'if': 5,\n",
       "         'returned': 5,\n",
       "         'arrived': 1,\n",
       "         'november': 2,\n",
       "         'courted': 68,\n",
       "         'time': 25,\n",
       "         'however': 5217,\n",
       "         'both': 1290,\n",
       "         'thoughts': 46,\n",
       "         '16': 3170,\n",
       "         '1837': 292,\n",
       "         'wrote': 47,\n",
       "         'letter': 166,\n",
       "         'saying': 8,\n",
       "         'would': 66,\n",
       "         'blame': 25,\n",
       "         'ended': 4,\n",
       "         'never': 1,\n",
       "         'replied': 609,\n",
       "         '1839': 237,\n",
       "         'todd': 340,\n",
       "         'springfield': 297,\n",
       "         'following': 2247,\n",
       "         'robert': 4046,\n",
       "         'smith': 5,\n",
       "         'wealthy': 3,\n",
       "         'lawyer': 11,\n",
       "         'businessman': 4,\n",
       "         'lexington': 115,\n",
       "         'wedding': 133,\n",
       "         'set': 192,\n",
       "         '1': 10069,\n",
       "         '1841': 288,\n",
       "         'canceled': 250,\n",
       "         'request': 19,\n",
       "         'reconciled': 1,\n",
       "         '4': 5473,\n",
       "         '1842': 299,\n",
       "         'mansion': 53,\n",
       "         'sister': 181,\n",
       "         'anxiously': 6,\n",
       "         'preparing': 10,\n",
       "         'nuptials': 16,\n",
       "         'asked': 57,\n",
       "         'going': 168,\n",
       "         'hell': 342,\n",
       "         'i': 483,\n",
       "         'suppose': 4,\n",
       "         '1844': 331,\n",
       "         'couple': 39,\n",
       "         'house': 1,\n",
       "         'law': 1,\n",
       "         'office': 1,\n",
       "         'kept': 8,\n",
       "         'help': 2,\n",
       "         'relative': 6,\n",
       "         'hired': 8,\n",
       "         'servant': 32,\n",
       "         'affectionate': 3,\n",
       "         'husband': 41,\n",
       "         'four': 1,\n",
       "         'sons': 141,\n",
       "         'though': 1168,\n",
       "         'regularly': 1,\n",
       "         'him': 16,\n",
       "         'away': 192,\n",
       "         'oldest': 10,\n",
       "         '1843': 305,\n",
       "         'only': 682,\n",
       "         'live': 1,\n",
       "         'maturity': 8,\n",
       "         'edward': 2651,\n",
       "         'baker': 38,\n",
       "         'eddie': 404,\n",
       "         '1846': 297,\n",
       "         '1850': 380,\n",
       "         'probably': 44,\n",
       "         'tuberculosis': 10,\n",
       "         'third': 596,\n",
       "         'willie': 320,\n",
       "         'white': 1358,\n",
       "         '1862': 402,\n",
       "         'youngest': 12,\n",
       "         'tad': 3,\n",
       "         'april': 1,\n",
       "         '1853': 312,\n",
       "         'survived': 2,\n",
       "         'heart': 560,\n",
       "         'failure': 22,\n",
       "         'age': 366,\n",
       "         '18': 3202,\n",
       "         'july': 1,\n",
       "         '1871': 459,\n",
       "         'remarkably': 6,\n",
       "         'fond': 8,\n",
       "         'lincolns': 1,\n",
       "         'considered': 32,\n",
       "         'be': 5,\n",
       "         'strict': 5,\n",
       "         'their': 1713,\n",
       "         'fact': 21,\n",
       "         'partner': 24,\n",
       "         'william': 5466,\n",
       "         'h': 47,\n",
       "         'herndon': 5,\n",
       "         'grow': 35,\n",
       "         'irritated': 1,\n",
       "         'bring': 51,\n",
       "         'seemed': 4,\n",
       "         'often': 54,\n",
       "         'too': 225,\n",
       "         'absorbed': 1,\n",
       "         'notice': 13,\n",
       "         'behavior': 18,\n",
       "         'recounted': 199,\n",
       "         'have': 1,\n",
       "         'felt': 11,\n",
       "         'many': 1129,\n",
       "         'wanted': 51,\n",
       "         'wring': 2,\n",
       "         'necks': 10,\n",
       "         'yet': 260,\n",
       "         'respect': 1,\n",
       "         'my': 2,\n",
       "         'mouth': 37,\n",
       "         'shut': 31,\n",
       "         'note': 1,\n",
       "         'what': 3,\n",
       "         'doing': 29,\n",
       "         'done': 44,\n",
       "         'deaths': 9,\n",
       "         'profound': 3,\n",
       "         'effects': 43,\n",
       "         'parents': 43,\n",
       "         'suffered': 1,\n",
       "         'melancholy': 13,\n",
       "         'condition': 21,\n",
       "         'now': 2,\n",
       "         'thought': 76,\n",
       "         'clinical': 35,\n",
       "         'depression': 281,\n",
       "         'struggled': 430,\n",
       "         'stresses': 29,\n",
       "         'committed': 7,\n",
       "         'asylum': 75,\n",
       "         '1875': 399,\n",
       "         'career': 2425,\n",
       "         'militia': 36,\n",
       "         'service': 1,\n",
       "         '1832': 290,\n",
       "         'joined': 11,\n",
       "         'denton': 29,\n",
       "         'offutt': 2,\n",
       "         'purchase': 20,\n",
       "         'general': 2589,\n",
       "         'store': 103,\n",
       "         'credit': 26,\n",
       "         'although': 3903,\n",
       "         'economy': 71,\n",
       "         'booming': 22,\n",
       "         'business': 302,\n",
       "         'eventually': 438,\n",
       "         'sold': 19,\n",
       "         'share': 14,\n",
       "         'entered': 5,\n",
       "         'politics': 176,\n",
       "         'running': 103,\n",
       "         'assembly': 226,\n",
       "         'advocating': 2,\n",
       "         'navigational': 1,\n",
       "         'improvements': 5,\n",
       "         'sangamon': 1,\n",
       "         'river': 349,\n",
       "         'could': 105,\n",
       "         'draw': 15,\n",
       "         'crowds': 6,\n",
       "         'raconteur': 7,\n",
       "         'lacked': 312,\n",
       "         'requisite': 31,\n",
       "         'formal': 14,\n",
       "         'powerful': 15,\n",
       "         'money': 239,\n",
       "         'lost': 423,\n",
       "         'election': 100,\n",
       "         'briefly': 11,\n",
       "         'interrupted': 8,\n",
       "         'campaign': 216,\n",
       "         'serve': 15,\n",
       "         'during': 7942,\n",
       "         'black': 1794,\n",
       "         'hawk': 15,\n",
       "         'war': 3,\n",
       "         'speech': 80,\n",
       "         'observed': 7,\n",
       "         'supporter': 3,\n",
       "         'crowd': 41,\n",
       "         'under': 910,\n",
       "         'grabbed': 51,\n",
       "         'assailant': 20,\n",
       "         'neck': 27,\n",
       "         'seat': 9,\n",
       "         'trousers': 7,\n",
       "         'tossed': 1,\n",
       "         'finished': 4,\n",
       "         'eighth': 85,\n",
       "         '13': 3051,\n",
       "         'candidates': 44,\n",
       "         'top': 3,\n",
       "         'elected': 51,\n",
       "         'received': 12,\n",
       "         '277': 19,\n",
       "         '300': 563,\n",
       "         'votes': 8,\n",
       "         'cast': 61,\n",
       "         'precinct': 11,\n",
       "         'postmaster': 11,\n",
       "         'surveyor': 38,\n",
       "         'continued': 36,\n",
       "         'voracious': 42,\n",
       "         'decided': 1,\n",
       "         'become': 8,\n",
       "         'taught': 7,\n",
       "         'himself': 49,\n",
       "         'blackstone': 8,\n",
       "         'commentaries': 75,\n",
       "         'effort': 4,\n",
       "         'studied': 2,\n",
       "         'nobody': 110,\n",
       "         'mieza': 3,\n",
       "         'macedonia': 107,\n",
       "         'greece': 609,\n",
       "         'details': 30,\n",
       "         'aristotle': 226,\n",
       "         'are': 1,\n",
       "         'well': 3,\n",
       "         'established': 19,\n",
       "         'biographies': 7,\n",
       "         'written': 110,\n",
       "         'ancient': 199,\n",
       "         'speculative': 6,\n",
       "         'historians': 88,\n",
       "         'agree': 323,\n",
       "         'few': 106,\n",
       "         'salient': 1,\n",
       "         'points': 37,\n",
       "         'whose': 24,\n",
       "         'name': 217,\n",
       "         'means': 1,\n",
       "         'best': 2,\n",
       "         'purpose': 19,\n",
       "         'greek': 1,\n",
       "         '384': 20,\n",
       "         'bc': 2038,\n",
       "         'stagira': 2,\n",
       "         'chalcidice': 4,\n",
       "         'about': 530,\n",
       "         '55': 364,\n",
       "         'km': 165,\n",
       "         '34': 498,\n",
       "         'miles': 244,\n",
       "         'east': 1924,\n",
       "         'modern': 612,\n",
       "         'day': 145,\n",
       "         'thessaloniki': 36,\n",
       "         'nicomachus': 6,\n",
       "         'personal': 2882,\n",
       "         'physician': 21,\n",
       "         'amyntas': 8,\n",
       "         'macedon': 85,\n",
       "         'thirteen': 43,\n",
       "         'proxenus': 2,\n",
       "         'atarneus': 3,\n",
       "         'guardian': 370,\n",
       "         'information': 170,\n",
       "         'childhood': 264,\n",
       "         'has': 1,\n",
       "         'spent': 9,\n",
       "         'within': 418,\n",
       "         'macedonian': 100,\n",
       "         'palace': 1307,\n",
       "         'making': 128,\n",
       "         'connections': 13,\n",
       "         'monarchy': 24,\n",
       "         'seventeen': 41,\n",
       "         'eighteen': 12,\n",
       "         'athens': 749,\n",
       "         'continue': 3,\n",
       "         'plato': 340,\n",
       "         'academy': 295,\n",
       "         'experienced': 7,\n",
       "         'eleusinian': 16,\n",
       "         'mysteries': 50,\n",
       "         'describing': 43,\n",
       "         'sights': 1,\n",
       "         'viewed': 3,\n",
       "         'experience': 125,\n",
       "         'learn': 13,\n",
       "         'παθείν': 1,\n",
       "         'μαθεĩν': 1,\n",
       "         'remained': 4,\n",
       "         'nearly': 52,\n",
       "         'twenty': 130,\n",
       "         '348': 24,\n",
       "         '47': 357,\n",
       "         'traditional': 41,\n",
       "         'story': 763,\n",
       "         'departure': 16,\n",
       "         'records': 2345,\n",
       "         'disappointed': 18,\n",
       "         'direction': 51,\n",
       "         'control': 146,\n",
       "         'passed': 2,\n",
       "         'nephew': 4,\n",
       "         'speusippus': 9,\n",
       "         'possible': 50,\n",
       "         'feared': 1,\n",
       "         'anti': 5,\n",
       "         'sentiments': 10,\n",
       "         'left': 242,\n",
       "         'accompanied': 27,\n",
       "         'xenocrates': 3,\n",
       "         'friend': 131,\n",
       "         'hermias': 5,\n",
       "         'asia': 596,\n",
       "         'minor': 1104,\n",
       "         'travelled': 3,\n",
       "         'pupil': 5,\n",
       "         'theophrastus': 24,\n",
       "         'island': 1131,\n",
       "         'lesbos': 30,\n",
       "         'together': 457,\n",
       "         'researched': 73,\n",
       "         'botany': 10,\n",
       "         'zoology': 26,\n",
       "         'sheltered': 1,\n",
       "         'lagoon': 14,\n",
       "         'pythias': 10,\n",
       "         'either': 43,\n",
       "         'adoptive': 83,\n",
       "         'niece': 384,\n",
       "         'bore': 1,\n",
       "         'also': 1267,\n",
       "         'named': 112,\n",
       "         '343': 26,\n",
       "         'invited': 16,\n",
       "         'philip': 1,\n",
       "         'ii': 3,\n",
       "         'tutor': 12,\n",
       "         'alexander': 2351,\n",
       "         'portrait': 1011,\n",
       "         'bust': 102,\n",
       "         'imperial': 690,\n",
       "         'roman': 8,\n",
       "         '1st': 918,\n",
       "         '2nd': 592,\n",
       "         'century': 451,\n",
       "         'ad': 42,\n",
       "         'copy': 12,\n",
       "         'bronze': 90,\n",
       "         'sculpture': 50,\n",
       "         'lysippos': 1,\n",
       "         'appointed': 21,\n",
       "         'head': 1,\n",
       "         'royal': 3325,\n",
       "         'lessons': 27,\n",
       "         'two': 1882,\n",
       "         'future': 182,\n",
       "         'kings': 293,\n",
       "         'ptolemy': 510,\n",
       "         'cassander': 22,\n",
       "         'encouraged': 47,\n",
       "         'toward': 79,\n",
       "         'eastern': 617,\n",
       "         'conquest': 114,\n",
       "         'attitude': 17,\n",
       "         'towards': 156,\n",
       "         'persia': 167,\n",
       "         'unabashedly': 3,\n",
       "         'ethnocentric': 1,\n",
       "         'famous': 155,\n",
       "         'example': 3,\n",
       "         'counsels': 1,\n",
       "         'greeks': 133,\n",
       "         'despot': 6,\n",
       "         'barbarians': 7,\n",
       "         'look': 1,\n",
       "         'former': 1,\n",
       "         'relatives': 8,\n",
       "         'deal': 138,\n",
       "         'latter': 30,\n",
       "         'beasts': 21,\n",
       "         'plants': 13,\n",
       "         '335': 32,\n",
       "         'establishing': 16,\n",
       "         'school': 6179,\n",
       "         'there': 1,\n",
       "         'lyceum': 12,\n",
       "         'conducted': 4,\n",
       "         'courses': 8,\n",
       "         'next': 4,\n",
       "         'twelve': 98,\n",
       "         'involved': 3,\n",
       "         'herpyllis': 1,\n",
       "         'according': 2048,\n",
       "         'suda': 70,\n",
       "         'erômenos': 1,\n",
       "         'palaephatus': 1,\n",
       "         'abydus': 1,\n",
       "         'this': 3,\n",
       "         'period': 44,\n",
       "         'between': 909,\n",
       "         '323': 28,\n",
       "         'believed': 3,\n",
       "         'composed': 12,\n",
       "         'works': 232,\n",
       "         'dialogues': 30,\n",
       "         'fragments': 26,\n",
       "         'those': 3421,\n",
       "         'treatise': 64,\n",
       "         'form': 63,\n",
       "         'intended': 19,\n",
       "         'widespread': 10,\n",
       "         'publication': 20,\n",
       "         'generally': 18,\n",
       "         'lecture': 84,\n",
       "         'aids': 8,\n",
       "         'students': 138,\n",
       "         'important': 26,\n",
       "         'treatises': 5,\n",
       "         'include': 1,\n",
       "         'physics': 877,\n",
       "         'metaphysics': 69,\n",
       "         'nicomachean': 2,\n",
       "         'ethics': 114,\n",
       "         'soul': 2,\n",
       "         'poetics': 2,\n",
       "         'significant': 16,\n",
       "         'contributions': 22,\n",
       "         'logic': 61,\n",
       "         'mathematics': 193,\n",
       "         'biology': 59,\n",
       "         'agriculture': 111,\n",
       "         'medicine': 200,\n",
       "         'dance': 508,\n",
       "         'theatre': 2446,\n",
       "         'end': 1,\n",
       "         'estranged': 1,\n",
       "         'persians': 109,\n",
       "         'tradition': 35,\n",
       "         'antiquity': 23,\n",
       "         'suspected': 3,\n",
       "         'playing': 168,\n",
       "         'role': 125,\n",
       "         'evidence': 43,\n",
       "         'unlikely': 6,\n",
       "         'claim': 4,\n",
       "         'sentiment': 3,\n",
       "         'rekindled': 30,\n",
       "         '322': 22,\n",
       "         'demophilus': 5,\n",
       "         'eurymedon': 3,\n",
       "         'hierophant': 2,\n",
       "         'reportedly': 60,\n",
       "         'denounced': 3,\n",
       "         'impiety': 1,\n",
       "         'prompting': 144,\n",
       "         'flee': 230,\n",
       "         'estate': 87,\n",
       "         'chalcis': 15,\n",
       "         'euboea': 18,\n",
       "         'occasion': 5,\n",
       "         'stated': 1,\n",
       "         'will': 4,\n",
       "         'allow': 6,\n",
       "         'athenians': 143,\n",
       "         'sin': 1,\n",
       "         'twice': 51,\n",
       "         'against': 300,\n",
       "         'philosophy': 350,\n",
       "         'reference': 13,\n",
       "         'trial': 117,\n",
       "         'execution': 20,\n",
       "         'socrates': 110,\n",
       "         'natural': 219,\n",
       "         'causes': 11,\n",
       "         'same': 42,\n",
       "         'having': 683,\n",
       "         'student': 141,\n",
       "         'antipater': 31,\n",
       "         'chief': 718,\n",
       "         'executor': 76,\n",
       "         'buried': 1,\n",
       "         'rand': 13,\n",
       "         'alisa': 5,\n",
       "         'zinovyevna': 1,\n",
       "         'rosenbaum': 34,\n",
       "         '1905': 711,\n",
       "         'russian': 2203,\n",
       "         'jewish': 2384,\n",
       "         'bourgeois': 22,\n",
       "         'living': 304,\n",
       "         'saint': 203,\n",
       "         'petersburg': 644,\n",
       "         'eldest': 5,\n",
       "         'daughters': 63,\n",
       "         'zinovy': 1,\n",
       "         'zakharovich': 1,\n",
       "         'anna': 1,\n",
       "         'borisovna': 1,\n",
       "         'kaplan': 67,\n",
       "         'upwardly': 2,\n",
       "         'mobile': 69,\n",
       "         'pharmacist': 44,\n",
       "         'socially': 4,\n",
       "         'ambitious': 4,\n",
       "         'religiously': 1,\n",
       "         'observant': 2,\n",
       "         'found': 46,\n",
       "         'unchallenging': 6,\n",
       "         'began': 5,\n",
       "         'screenplays': 4,\n",
       "         'novels': 42,\n",
       "         'prestigious': 383,\n",
       "         'closest': 322,\n",
       "         'vladimir': 351,\n",
       "         'nabokov': 82,\n",
       "         'younger': 238,\n",
       "         'olga': 234,\n",
       "         'girls': 1,\n",
       "         'shared': 1,\n",
       "         'intense': 5,\n",
       "         'engage': 150,\n",
       "         'debates': 7,\n",
       "         'defended': 5,\n",
       "         'constitutional': 75,\n",
       "         'supported': 32,\n",
       "         'republican': 1186,\n",
       "         'ideals': 9,\n",
       "         'revolution': 435,\n",
       "         '1917': 1006,\n",
       "         'favored': 4,\n",
       "         'kerensky': 38,\n",
       "         'tsar': 31,\n",
       "         'nicholas': 614,\n",
       "         'subsequent': 90,\n",
       "         'rule': 198,\n",
       "         'bolsheviks': 95,\n",
       "         'lenin': 205,\n",
       "         'disrupted': 62,\n",
       "         'previously': 55,\n",
       "         'enjoyed': 1167,\n",
       "         'confiscated': 1,\n",
       "         'fled': 1,\n",
       "         'crimean': 65,\n",
       "         'peninsula': 63,\n",
       "         'initially': 308,\n",
       "         'army': 2817,\n",
       "         'civil': 2,\n",
       "         'high': 2450,\n",
       "         'concluded': 712,\n",
       "         'atheist': 2,\n",
       "         'valued': 3,\n",
       "         'reason': 73,\n",
       "         'above': 63,\n",
       "         'any': 109,\n",
       "         'human': 1,\n",
       "         'virtue': 19,\n",
       "         'graduating': 20,\n",
       "         'crimea': 33,\n",
       "         '1921': 960,\n",
       "         'petrograd': 55,\n",
       "         'renamed': 3,\n",
       "         'faced': 54,\n",
       "         'desperate': 40,\n",
       "         'conditions': 19,\n",
       "         'starving': 33,\n",
       "         'completed': 9,\n",
       "         'program': 205,\n",
       "         'university': 1,\n",
       "         'universities': 52,\n",
       "         'opened': 3,\n",
       "         'women': 715,\n",
       "         'allowing': 1,\n",
       "         'group': 715,\n",
       "         'enroll': 84,\n",
       "         'studies': 315,\n",
       "         'department': 1,\n",
       "         'social': 508,\n",
       "         'pedagogy': 4,\n",
       "         'majoring': 1,\n",
       "         'history': 5,\n",
       "         'introduced': 7,\n",
       "         'writings': 40,\n",
       "         'greatest': 369,\n",
       "         'influence': 35,\n",
       "         'counter': 38,\n",
       "         'respectively': 614,\n",
       "         'philosophical': 87,\n",
       "         'friedrich': 589,\n",
       "         'nietzsche': 315,\n",
       "         'able': 2438,\n",
       "         'french': 5,\n",
       "         'german': 1,\n",
       "         'discovered': 4,\n",
       "         'writers': 241,\n",
       "         'fyodor': 56,\n",
       "         'dostoevsky': 177,\n",
       "         'victor': 22,\n",
       "         'hugo': 1,\n",
       "         'edmond': 72,\n",
       "         'rostand': 35,\n",
       "         ...})"
      ]
     },
     "execution_count": 19,
     "metadata": {},
     "output_type": "execute_result"
    }
   ],
   "source": [
    "# # YOUR CODE HERE\n",
    "# # raise NotImplementedError()\n",
    "\n",
    "\n",
    "wc_set = set(word_counts)\n",
    "\n",
    "\n",
    "lowercase_word_counts = {k.lower(): v for k,v in dict(word_counts).items()}\n",
    "\n",
    "lowercase_word_counts = Counter(lowercase_word_counts)\n",
    "\n",
    "# for i in wc_set:\n",
    "#     matches = re.findall(r'\\w+',i)\n",
    "    \n",
    "#     if re.fullmatch(r'^[A-Z]',i):\n",
    "#         del lowercase_word_counts[i]\n",
    "        \n",
    "lowercase_word_counts\n",
    "\n",
    "\n"
   ]
  },
  {
   "cell_type": "code",
   "execution_count": 20,
   "metadata": {},
   "outputs": [
    {
     "data": {
      "text/plain": [
       "(219293, 191199)"
      ]
     },
     "execution_count": 20,
     "metadata": {},
     "output_type": "execute_result"
    }
   ],
   "source": [
    "len(word_counts), len(lowercase_word_counts)"
   ]
  },
  {
   "cell_type": "code",
   "execution_count": 21,
   "metadata": {
    "deletable": false,
    "editable": false,
    "nbgrader": {
     "cell_type": "code",
     "checksum": "76479312c3ef6b1d9ad195f82b6634c1",
     "grade": true,
     "grade_id": "cell-e8a63053f2aed85b",
     "locked": true,
     "points": 1,
     "schema_version": 3,
     "solution": false
    }
   },
   "outputs": [],
   "source": [
    "#hidden tests are within this cell"
   ]
  },
  {
   "cell_type": "code",
   "execution_count": 22,
   "metadata": {},
   "outputs": [
    {
     "name": "stdout",
     "output_type": "stream",
     "text": [
      "CPU times: user 68.1 ms, sys: 73.5 ms, total: 142 ms\n",
      "Wall time: 140 ms\n"
     ]
    },
    {
     "data": {
      "text/plain": [
       "10815"
      ]
     },
     "execution_count": 22,
     "metadata": {},
     "output_type": "execute_result"
    }
   ],
   "source": [
    "%%time\n",
    "len([w for w,c in word_counts.items() if c >= 100])"
   ]
  },
  {
   "cell_type": "markdown",
   "metadata": {},
   "source": [
    "Let's quickly train a word2vec model on the 10,000 tokenized biographies in `all_tokenized_bios`. This should train relatively quickly (~1 minute) and will let us do a few quick sanity tests. Call this model `quick_model` since it should be relative quick to train compared with training on the full set of biographies you have been using.\n",
    "\n",
    "Here, we'll use arguments to specify:\n",
    "* 50-dimensional vectors\n",
    "* a window size of +/-2\n",
    "* a minimum word frequency of 100\n",
    "* 4 threads to process in parallel\n",
    "* The class's `RANDOM_SEED`\n",
    "\n",
    "*Note:* in the gensim that is installed for this homework, the vector size is specified as `size` in the argument. (Some other versions of the library have different names for the argument!)"
   ]
  },
  {
   "cell_type": "code",
   "execution_count": 23,
   "metadata": {
    "deletable": false,
    "nbgrader": {
     "cell_type": "code",
     "checksum": "54451c8bef98f91d7ba8060e958dd7da",
     "grade": false,
     "grade_id": "cell-2a933727c8472b14",
     "locked": false,
     "schema_version": 3,
     "solution": true
    }
   },
   "outputs": [
    {
     "name": "stdout",
     "output_type": "stream",
     "text": [
      "CPU times: user 1min 31s, sys: 694 ms, total: 1min 32s\n",
      "Wall time: 27.8 s\n"
     ]
    }
   ],
   "source": [
    "%%time\n",
    "# YOUR CODE HERE\n",
    "# raise NotImplementedError()\n",
    "\n",
    "quick_model = gensim.models.Word2Vec(all_tokenized_bios[:10000], min_count = 100,\n",
    "                              size = 50, window = 2, workers = 4, seed = RANDOM_SEED)"
   ]
  },
  {
   "cell_type": "markdown",
   "metadata": {},
   "source": [
    "The word vectors are easily accessed through the `.wv` field of our model."
   ]
  },
  {
   "cell_type": "code",
   "execution_count": 24,
   "metadata": {},
   "outputs": [],
   "source": [
    "quick_word_vectors = quick_model.wv"
   ]
  },
  {
   "cell_type": "code",
   "execution_count": 25,
   "metadata": {},
   "outputs": [
    {
     "data": {
      "text/plain": [
       "[('biology', 0.8759139180183411),\n",
       " ('physics', 0.8736380934715271),\n",
       " ('psychology', 0.8641756176948547),\n",
       " ('medicine', 0.8594397306442261),\n",
       " ('mathematics', 0.854270339012146),\n",
       " ('astronomy', 0.852233350276947),\n",
       " ('sociology', 0.8257904648780823),\n",
       " ('economics', 0.8187398314476013),\n",
       " ('botany', 0.8096125721931458),\n",
       " ('anatomy', 0.8083738684654236)]"
      ]
     },
     "execution_count": 25,
     "metadata": {},
     "output_type": "execute_result"
    }
   ],
   "source": [
    "quick_word_vectors.similar_by_word(\"chemistry\")[:10]"
   ]
  },
  {
   "cell_type": "code",
   "execution_count": 26,
   "metadata": {},
   "outputs": [
    {
     "data": {
      "text/plain": [
       "[('baseball', 0.9031092524528503),\n",
       " ('basketball', 0.9000827670097351),\n",
       " ('hockey', 0.854896605014801),\n",
       " ('soccer', 0.8336799144744873),\n",
       " ('cricket', 0.8172928094863892),\n",
       " ('tennis', 0.8146602511405945),\n",
       " ('wrestling', 0.7932063937187195),\n",
       " ('chess', 0.7753101587295532),\n",
       " ('rugby', 0.7673255205154419),\n",
       " ('sports', 0.7607227563858032)]"
      ]
     },
     "execution_count": 26,
     "metadata": {},
     "output_type": "execute_result"
    }
   ],
   "source": [
    "quick_word_vectors.similar_by_word(\"football\")[:10]"
   ]
  },
  {
   "cell_type": "markdown",
   "metadata": {},
   "source": [
    "### Load the Word2Vec model trained on our Wikipedia corpus\n",
    "\n",
    "Training a model on the full data can take 20-60 minutes so we've precomputed a model for you at `assets/wikipedia.100.word-vecs.kv`. Let's load these vectors using `gensim.models.KeyedVectors.load` and call this `full_word_vectors`. "
   ]
  },
  {
   "cell_type": "code",
   "execution_count": 27,
   "metadata": {
    "deletable": false,
    "nbgrader": {
     "cell_type": "code",
     "checksum": "ff743eba1cf4d23b102e2224da0277d5",
     "grade": false,
     "grade_id": "cell-704f746ce5bcfd31",
     "locked": false,
     "schema_version": 3,
     "solution": true
    }
   },
   "outputs": [],
   "source": [
    "# YOUR CODE HERE\n",
    "# raise NotImplementedError()\n",
    "\n",
    "full_word_vectors = gensim.models.KeyedVectors.load('assets/wikipedia.100.word-vecs.kv')"
   ]
  },
  {
   "cell_type": "markdown",
   "metadata": {},
   "source": [
    "As a quick sanity check, print out the 10 most similar words for \"chemistry\" and \"football\" again using these new word vectors"
   ]
  },
  {
   "cell_type": "code",
   "execution_count": 28,
   "metadata": {},
   "outputs": [
    {
     "data": {
      "text/plain": [
       "[('its', 0.8000361323356628),\n",
       " ('their', 0.6638364195823669),\n",
       " ('this', 0.6563833951950073),\n",
       " ('our', 0.6386458873748779),\n",
       " ('his', 0.6207382678985596),\n",
       " ('The', 0.6133779287338257),\n",
       " ('a', 0.6116929054260254),\n",
       " ('another', 0.5941140651702881),\n",
       " ('her', 0.5800748467445374),\n",
       " ('every', 0.5692095160484314)]"
      ]
     },
     "execution_count": 28,
     "metadata": {},
     "output_type": "execute_result"
    }
   ],
   "source": [
    "full_word_vectors.similar_by_word(\"the\")[:10]"
   ]
  },
  {
   "cell_type": "code",
   "execution_count": 29,
   "metadata": {},
   "outputs": [
    {
     "data": {
      "text/plain": [
       "[('soccer', 0.8991495370864868),\n",
       " ('basketball', 0.8783006072044373),\n",
       " ('baseball', 0.8465267419815063),\n",
       " ('hockey', 0.8135024309158325),\n",
       " ('lacrosse', 0.759275496006012),\n",
       " ('volleyball', 0.7534387111663818),\n",
       " ('rugby', 0.7447830438613892),\n",
       " ('softball', 0.7415612936019897),\n",
       " ('tennis', 0.7191575765609741),\n",
       " ('futsal', 0.7188178300857544)]"
      ]
     },
     "execution_count": 29,
     "metadata": {},
     "output_type": "execute_result"
    }
   ],
   "source": [
    "full_word_vectors.similar_by_word(\"football\")[:10]"
   ]
  },
  {
   "cell_type": "markdown",
   "metadata": {},
   "source": [
    "## Similarity and Relatedness\n",
    "\n",
    "Looks like both models are capturing a surprising amount of information. Let's test how well both our quickly-learned and fully-trained vectors reflect human judgments of similarity and relatedness. Here, we'll use the [SimLex-999](https://fh295.github.io/simlex.html) and [WordSim-353](http://alfonseca.org/eng/research/wordsim353.html) benchmarks. The WordSim-353 dataset is notable for including judgments of both similarity and relatedness. \n",
    "\n",
    "To test on these datasets, we'll use the `evaluate_word_pairs` function of the `KeyedVectors` class which knows how to read these files and score them using both Pearson and Spearman's correlations. The datasets are stored at:\n",
    "* `assets/wordsim_similarity_goldstandard.txt`\n",
    "* `assets/wordsim_relatedness_goldstandard.txt`\n",
    "* `assets/SimLex-999.tsv`\n",
    "\n",
    "To start, let's compute similarities for `full_word_vectors` and `quick_word_vectors` on both SimLex999 and WordSim353. Save the results of each as variables named with the prefix and dataset, e.g., `full_simlex999` or `quick_wordsim353`, and print the results."
   ]
  },
  {
   "cell_type": "code",
   "execution_count": 32,
   "metadata": {
    "deletable": false,
    "nbgrader": {
     "cell_type": "code",
     "checksum": "d5caac7e788e9990bf4867cb2c4df499",
     "grade": false,
     "grade_id": "cell-7c1a8ce54e6741da",
     "locked": false,
     "schema_version": 3,
     "solution": true
    }
   },
   "outputs": [],
   "source": [
    "# YOUR CODE HERE\n",
    "# raise NotImplementedError()\n",
    "\n",
    "full_simlex999 = full_word_vectors.evaluate_word_pairs('assets/SimLex-999.tsv')\n",
    "full_wordsim353 = full_word_vectors.evaluate_word_pairs('assets/wordsim_similarity_goldstandard.txt')\n",
    "\n",
    "quick_simlex999 = quick_model.evaluate_word_pairs('assets/SimLex-999.tsv')\n",
    "quick_wordsim353 = quick_model.evaluate_word_pairs('assets/wordsim_similarity_goldstandard.txt')"
   ]
  },
  {
   "cell_type": "code",
   "execution_count": 31,
   "metadata": {
    "deletable": false,
    "editable": false,
    "nbgrader": {
     "cell_type": "code",
     "checksum": "6e9bfa4262e2ec62fa99fdc42c9fb186",
     "grade": true,
     "grade_id": "cell-c0d54175013049e3",
     "locked": true,
     "points": 1,
     "schema_version": 3,
     "solution": false
    }
   },
   "outputs": [],
   "source": [
    "#hidden tests are within this cell"
   ]
  },
  {
   "cell_type": "markdown",
   "metadata": {},
   "source": [
    "Let's do the same for relatedness! Here, call your variables `full_relatedness353` and `quick_relatedness353`"
   ]
  },
  {
   "cell_type": "code",
   "execution_count": 33,
   "metadata": {
    "deletable": false,
    "nbgrader": {
     "cell_type": "code",
     "checksum": "1690e0313056a98490d52c3c32c8a4f0",
     "grade": false,
     "grade_id": "cell-f170023fb323b31d",
     "locked": false,
     "schema_version": 3,
     "solution": true
    }
   },
   "outputs": [],
   "source": [
    "\n",
    "# YOUR CODE HERE\n",
    "# raise NotImplementedError()\n",
    "full_relatedness353 = full_word_vectors.evaluate_word_pairs('assets/wordsim_relatedness_goldstandard.txt')\n",
    "quick_relatedness353 = quick_model.evaluate_word_pairs('assets/wordsim_relatedness_goldstandard.txt')\n"
   ]
  },
  {
   "cell_type": "code",
   "execution_count": 34,
   "metadata": {
    "deletable": false,
    "editable": false,
    "nbgrader": {
     "cell_type": "code",
     "checksum": "0ae9c0d3658862f064ed40e447e4c83b",
     "grade": true,
     "grade_id": "cell-9737ff7a8819df14",
     "locked": true,
     "points": 1,
     "schema_version": 3,
     "solution": false
    }
   },
   "outputs": [],
   "source": [
    "#hidden tests are within this cell"
   ]
  },
  {
   "cell_type": "markdown",
   "metadata": {},
   "source": [
    "## Word Analogies\n",
    "Word vectors can not only capture similarity in meaning but relational structure as well. Here, we'll look for analogies of the for `a:b::c:d` or \"a is to b as c is to d\". In solving these types of analogies, we'll use the `most_similar` function of `KeyedVectors` that will do the vector arithmetic, as described in the original word2vec  paper.\n",
    "\n",
    "In your first task, write a function `get_analogy` that takes arguments `a`, `b`, `c`, and uses the `most_similar` function to find and return the `d` item that is analogous to `b` in the `full_word_vectors` space.\n",
    "\n",
    "*NOTE:* you should make sure to pass lists to `most_similar`, not tuples (the latter will work but give incorrect results)"
   ]
  },
  {
   "cell_type": "code",
   "execution_count": 76,
   "metadata": {
    "deletable": false,
    "nbgrader": {
     "cell_type": "code",
     "checksum": "1abd6b36b0543f4136d3d0c5d650c7ef",
     "grade": false,
     "grade_id": "cell-3435c4d7f9f6ad9b",
     "locked": false,
     "schema_version": 3,
     "solution": true
    }
   },
   "outputs": [],
   "source": [
    "# YOUR CODE HERE\n",
    "# raise NotImplementedError()\n",
    "\n",
    "def get_analogy(a,b,c):\n",
    "    result = full_word_vectors.most_similar(positive=[c,b],negative=[a])\n",
    "    return result[0][0]"
   ]
  },
  {
   "cell_type": "markdown",
   "metadata": {},
   "source": [
    "### Task: Find the appropriate analogy entities/concepts for the following relations\n",
    "\n",
    "For all questions below, please return your answer as a single `str`. "
   ]
  },
  {
   "cell_type": "markdown",
   "metadata": {},
   "source": [
    "### Relation 1: Country::Capital"
   ]
  },
  {
   "cell_type": "markdown",
   "metadata": {},
   "source": [
    "Find the capital of each following countries, according to the fact that London is the capital of UK:\n",
    "1. France\n",
    "2. Germany\n",
    "3. Italy\n",
    "4. Austria\n",
    "5. Denmark"
   ]
  },
  {
   "cell_type": "code",
   "execution_count": 77,
   "metadata": {
    "deletable": false,
    "editable": false,
    "nbgrader": {
     "cell_type": "code",
     "checksum": "cf81bdb8dcc27363cd3553473c2ca11f",
     "grade": true,
     "grade_id": "cell-e8ef37e837980a39",
     "locked": true,
     "points": 1,
     "schema_version": 3,
     "solution": false
    }
   },
   "outputs": [
    {
     "name": "stdout",
     "output_type": "stream",
     "text": [
      "Paris\n"
     ]
    }
   ],
   "source": [
    "answer = get_analogy('UK', 'London', 'France')\n",
    "print(answer)\n",
    "#hidden tests are within this cell"
   ]
  },
  {
   "cell_type": "code",
   "execution_count": 78,
   "metadata": {
    "deletable": false,
    "editable": false,
    "nbgrader": {
     "cell_type": "code",
     "checksum": "3c49ed9316e3a61b9138774dff108b7c",
     "grade": true,
     "grade_id": "cell-8b009ff1e6303bcd",
     "locked": true,
     "points": 1,
     "schema_version": 3,
     "solution": false
    }
   },
   "outputs": [
    {
     "name": "stdout",
     "output_type": "stream",
     "text": [
      "Rome\n"
     ]
    }
   ],
   "source": [
    "answer = get_analogy('UK', 'London', 'Italy')\n",
    "print(answer)\n",
    "#hidden tests are within this cell"
   ]
  },
  {
   "cell_type": "code",
   "execution_count": 79,
   "metadata": {
    "deletable": false,
    "editable": false,
    "nbgrader": {
     "cell_type": "code",
     "checksum": "69b30bf456990e4c41eb54f20830e7c2",
     "grade": true,
     "grade_id": "cell-2499aa9e12b46802",
     "locked": true,
     "points": 1,
     "schema_version": 3,
     "solution": false
    }
   },
   "outputs": [
    {
     "name": "stdout",
     "output_type": "stream",
     "text": [
      "Berlin\n"
     ]
    }
   ],
   "source": [
    "answer = get_analogy('UK', 'London', 'Germany')\n",
    "print(answer)\n",
    "#hidden tests are within this cell"
   ]
  },
  {
   "cell_type": "code",
   "execution_count": 80,
   "metadata": {
    "deletable": false,
    "editable": false,
    "nbgrader": {
     "cell_type": "code",
     "checksum": "df426a8b5537b3b45044cf140a295bfd",
     "grade": true,
     "grade_id": "cell-33ca779e0942a548",
     "locked": true,
     "points": 1,
     "schema_version": 3,
     "solution": false
    }
   },
   "outputs": [
    {
     "name": "stdout",
     "output_type": "stream",
     "text": [
      "Vienna\n"
     ]
    }
   ],
   "source": [
    "answer = get_analogy('UK', 'London', 'Austria')\n",
    "print(answer)\n",
    "#hidden tests are within this cell"
   ]
  },
  {
   "cell_type": "code",
   "execution_count": 81,
   "metadata": {
    "deletable": false,
    "editable": false,
    "nbgrader": {
     "cell_type": "code",
     "checksum": "57d99c4cb2d0d2c564dba7420acc9400",
     "grade": true,
     "grade_id": "cell-ce92e4b932a6db8d",
     "locked": true,
     "points": 1,
     "schema_version": 3,
     "solution": false
    }
   },
   "outputs": [
    {
     "name": "stdout",
     "output_type": "stream",
     "text": [
      "Copenhagen\n"
     ]
    }
   ],
   "source": [
    "answer = get_analogy('UK', 'London', 'Denmark')\n",
    "print(answer)\n",
    "#hidden tests are within this cell"
   ]
  },
  {
   "cell_type": "markdown",
   "metadata": {},
   "source": [
    "Well, pretty amazing! Considering that these are only trained on Wikipedia biographies, the model has captured quite a bit of information about places."
   ]
  },
  {
   "cell_type": "markdown",
   "metadata": {},
   "source": [
    "### Relation 2: Association::Sports"
   ]
  },
  {
   "cell_type": "markdown",
   "metadata": {},
   "source": [
    "There are a lot of athletes in our dataset. Let's see if we can recover the relationship between sports associations and the sports played in them, NBA is to basketball as NHL is to ???\n",
    "1. NFL - National ????? League\n",
    "2. NHL - National ????? League\n",
    "3. MLB - Major League ?????\n",
    "4. MLS - Major League ?????\n",
    "5. NLL - National ????? League"
   ]
  },
  {
   "cell_type": "code",
   "execution_count": 82,
   "metadata": {
    "deletable": false,
    "editable": false,
    "nbgrader": {
     "cell_type": "code",
     "checksum": "de1e5e17ed0003b394e6bd0ba7e4cf7d",
     "grade": true,
     "grade_id": "cell-cb1361d870f81739",
     "locked": true,
     "points": 1,
     "schema_version": 3,
     "solution": false
    }
   },
   "outputs": [
    {
     "name": "stdout",
     "output_type": "stream",
     "text": [
      "soccer\n"
     ]
    }
   ],
   "source": [
    "answer = get_analogy('NBA', 'basketball', 'NHL')\n",
    "print(answer)\n",
    "#hidden tests are within this cell"
   ]
  },
  {
   "cell_type": "code",
   "execution_count": 83,
   "metadata": {
    "deletable": false,
    "editable": false,
    "nbgrader": {
     "cell_type": "code",
     "checksum": "8663a106141d626cb0038ea0078bd4b0",
     "grade": true,
     "grade_id": "cell-45df4b62b80d77b9",
     "locked": true,
     "points": 1,
     "schema_version": 3,
     "solution": false
    }
   },
   "outputs": [
    {
     "name": "stdout",
     "output_type": "stream",
     "text": [
      "baseball\n"
     ]
    }
   ],
   "source": [
    "answer = get_analogy('NBA', 'basketball', 'MLB')\n",
    "print(answer)\n",
    "#hidden tests are within this cell"
   ]
  },
  {
   "cell_type": "code",
   "execution_count": 84,
   "metadata": {
    "deletable": false,
    "editable": false,
    "nbgrader": {
     "cell_type": "code",
     "checksum": "be373b6b5295fbc6ae532ad89d919421",
     "grade": true,
     "grade_id": "cell-bacdf8ec027f4c3d",
     "locked": true,
     "points": 1,
     "schema_version": 3,
     "solution": false
    }
   },
   "outputs": [
    {
     "name": "stdout",
     "output_type": "stream",
     "text": [
      "soccer\n"
     ]
    }
   ],
   "source": [
    "answer = get_analogy('NBA', 'basketball', 'MLS')\n",
    "print(answer)\n",
    "#hidden tests are within this cell"
   ]
  },
  {
   "cell_type": "code",
   "execution_count": 85,
   "metadata": {
    "deletable": false,
    "editable": false,
    "nbgrader": {
     "cell_type": "code",
     "checksum": "00163a1df6fd66d3e13a86431aef8d8d",
     "grade": true,
     "grade_id": "cell-6cc5455d282c50ad",
     "locked": true,
     "points": 1,
     "schema_version": 3,
     "solution": false
    }
   },
   "outputs": [
    {
     "name": "stdout",
     "output_type": "stream",
     "text": [
      "baseball\n"
     ]
    }
   ],
   "source": [
    "answer = get_analogy('NBA', 'basketball', 'NFL')\n",
    "print(answer)\n",
    "#hidden tests are within this cell"
   ]
  },
  {
   "cell_type": "code",
   "execution_count": 86,
   "metadata": {
    "deletable": false,
    "editable": false,
    "nbgrader": {
     "cell_type": "code",
     "checksum": "3fc119fed407ee4b60b4fb1b9c03ee1b",
     "grade": true,
     "grade_id": "cell-218d681fe8f69956",
     "locked": true,
     "points": 1,
     "schema_version": 3,
     "solution": false
    }
   },
   "outputs": [
    {
     "name": "stdout",
     "output_type": "stream",
     "text": [
      "soccer\n"
     ]
    }
   ],
   "source": [
    "answer = get_analogy('NBA', 'basketball', 'NLL')\n",
    "print(answer)\n",
    "#hidden tests are within this cell"
   ]
  },
  {
   "cell_type": "markdown",
   "metadata": {},
   "source": [
    "What if we try a different one to predict for the NFL?"
   ]
  },
  {
   "cell_type": "code",
   "execution_count": 87,
   "metadata": {
    "deletable": false,
    "editable": false,
    "nbgrader": {
     "cell_type": "code",
     "checksum": "fdacdd56c1db8567a1738b840b184437",
     "grade": true,
     "grade_id": "cell-581a2690c8ef167e",
     "locked": true,
     "points": 1,
     "schema_version": 3,
     "solution": false
    }
   },
   "outputs": [
    {
     "name": "stdout",
     "output_type": "stream",
     "text": [
      "basketball\n"
     ]
    }
   ],
   "source": [
    "answer = get_analogy('MLB', 'baseball', 'NFL')\n",
    "print(answer)\n",
    "#hidden tests are within this cell"
   ]
  },
  {
   "cell_type": "markdown",
   "metadata": {},
   "source": [
    "What if we try the reverse?"
   ]
  },
  {
   "cell_type": "code",
   "execution_count": 88,
   "metadata": {
    "deletable": false,
    "editable": false,
    "nbgrader": {
     "cell_type": "code",
     "checksum": "97b9c6555fde8d58471b8b4e05407252",
     "grade": true,
     "grade_id": "cell-028070e83f343132",
     "locked": true,
     "points": 1,
     "schema_version": 3,
     "solution": false
    }
   },
   "outputs": [
    {
     "name": "stdout",
     "output_type": "stream",
     "text": [
      "soccer\n"
     ]
    }
   ],
   "source": [
    "answer = get_analogy('NFL', 'football', 'NBA')\n",
    "print(answer)\n",
    "#hidden tests are within this cell"
   ]
  },
  {
   "cell_type": "markdown",
   "metadata": {},
   "source": [
    "Huh! This suggests that NFL in our dataset is occurring in different contexts than other sports leagues. But it can be tough to tell what's fully responsible! Perhaps the use of football as both \"soccer\" and \"gridiron football\" causes an issue? The model sure seems to like \"soccer\". "
   ]
  },
  {
   "cell_type": "code",
   "execution_count": 89,
   "metadata": {},
   "outputs": [
    {
     "name": "stdout",
     "output_type": "stream",
     "text": [
      "at the NFL Kickoff Live\n",
      "NBA and NFL teams inspiring\n",
      "two future NFL Hall of\n",
      "of the NFL In 1977\n",
      "in the NFL There were\n",
      "to an NFL franchise but\n",
      "let go NFL career Philadelphia\n",
      "on the NFL had changed\n",
      "by the NFL that a\n",
      "of the NFL championship game\n",
      "lowest in NFL history to\n",
      "of the NFL rosters had\n",
      "displace the NFL s sovereignty\n",
      "its history NFL commissioner 1946\n",
      "and the NFL schedule 1946\n",
      "the first NFL commissioner in\n",
      "among the NFL owners since\n",
      "the next NFL owners meeting\n",
      "ban any NFL associated personnel\n",
      "of the NFL to investigate\n",
      "scams AAFC NFL merger 1948\n",
      "1950 The NFL s struggle\n",
      "prevented the NFL for showing\n",
      "actualized the NFL s first\n",
      "an AAFC NFL merger was\n",
      "of the NFL 1950 1956\n",
      "into the NFL which forbid\n",
      "for the NFL He negotiated\n",
      "of the NFL s rise\n",
      "declared the NFL was subject\n",
      "that the NFL should be\n",
      "the first NFL championship game\n",
      "named interim NFL commissioner for\n",
      "of the NFL franchises were\n",
      "regional CBS NFL and CBS\n",
      "shows for NFL broadcasts and\n",
      "returned to NFL studio hosting\n",
      "last hosted NFL telecasts for\n",
      "for The NFL on NBC\n",
      "play of NFL games with\n",
      "NBC s NFL coverage the\n",
      "or the NFL season because\n",
      "Inside the NFL Costas remained\n",
      "Inside the NFL through the\n",
      "the 2007 NFL season He\n",
      "and former NFL legends Dan\n",
      "during the NFL season Costas\n",
      "being loaded NFL Network As\n",
      "NBC and NFL Network in\n",
      "1976 1979 NFL on CBS\n",
      "1980 1983 NFL on NBC\n",
      "2006 2016 NFL on NBC\n",
      "Inside the NFL Host 2003\n",
      "2016 NBC NFL Network Host\n",
      "previous owners NFL player Tom\n",
      "described the NFL anthem protests\n",
      "Beckham and NFL running back\n",
      "DirecTV s NFL Sunday Ticket\n",
      "Football League NFL players The\n",
      "the 2006 NFL season In\n",
      "1972 73 NFL 6 5\n",
      "with former NFL player Rocky\n"
     ]
    }
   ],
   "source": [
    "for bio in all_tokenized_bios[:1000]:\n",
    "    for i, w in enumerate(bio):\n",
    "        if w == 'NFL':\n",
    "            print(' '.join(bio[i-2:i+3]))"
   ]
  },
  {
   "cell_type": "markdown",
   "metadata": {},
   "source": [
    "### Relation 3: Expert::Field"
   ]
  },
  {
   "cell_type": "markdown",
   "metadata": {},
   "source": [
    "Find what fields do the following experts have expertise in, according to the fact that biologists have expertise in biology:\n",
    "1. sociologists\n",
    "2. psychologists\n",
    "3. neuroscientists\n",
    "4. zoologists\n",
    "5. physiologists"
   ]
  },
  {
   "cell_type": "code",
   "execution_count": 90,
   "metadata": {
    "deletable": false,
    "editable": false,
    "nbgrader": {
     "cell_type": "code",
     "checksum": "0c55f8b3c82230f1351f340d888aabdb",
     "grade": true,
     "grade_id": "cell-7ab25f88ce2c9391",
     "locked": true,
     "points": 1,
     "schema_version": 3,
     "solution": false
    }
   },
   "outputs": [
    {
     "name": "stdout",
     "output_type": "stream",
     "text": [
      "chemistry\n"
     ]
    }
   ],
   "source": [
    "answer = get_analogy('biologists', 'biology', 'chemists')\n",
    "print(answer)\n",
    "#hidden tests are within this cell"
   ]
  },
  {
   "cell_type": "code",
   "execution_count": 91,
   "metadata": {
    "deletable": false,
    "editable": false,
    "nbgrader": {
     "cell_type": "code",
     "checksum": "73ec390b68793bc0372b807571ff0ecc",
     "grade": true,
     "grade_id": "cell-348019114f528f06",
     "locked": true,
     "points": 1,
     "schema_version": 3,
     "solution": false
    }
   },
   "outputs": [
    {
     "name": "stdout",
     "output_type": "stream",
     "text": [
      "oncology\n"
     ]
    }
   ],
   "source": [
    "answer = get_analogy('biologists', 'biology', 'oncologist')\n",
    "print(answer)\n",
    "#hidden tests are within this cell"
   ]
  },
  {
   "cell_type": "code",
   "execution_count": 92,
   "metadata": {
    "deletable": false,
    "editable": false,
    "nbgrader": {
     "cell_type": "code",
     "checksum": "23ce219a927a2d328434f78518bad8ab",
     "grade": true,
     "grade_id": "cell-03094750a8e101ba",
     "locked": true,
     "points": 1,
     "schema_version": 3,
     "solution": false
    }
   },
   "outputs": [
    {
     "name": "stdout",
     "output_type": "stream",
     "text": [
      "art\n"
     ]
    }
   ],
   "source": [
    "answer = get_analogy('biologist', 'biology', 'artist')\n",
    "print(answer)\n",
    "#hidden tests are within this cell"
   ]
  },
  {
   "cell_type": "code",
   "execution_count": 93,
   "metadata": {
    "deletable": false,
    "editable": false,
    "nbgrader": {
     "cell_type": "code",
     "checksum": "369c33fe14b10d0894272ad6aa57107a",
     "grade": true,
     "grade_id": "cell-582bfc5a3ebb1afd",
     "locked": true,
     "points": 1,
     "schema_version": 3,
     "solution": false
    }
   },
   "outputs": [
    {
     "name": "stdout",
     "output_type": "stream",
     "text": [
      "botany\n"
     ]
    }
   ],
   "source": [
    "answer = get_analogy('biologist', 'biology', 'zoologist')\n",
    "print(answer)\n",
    "#hidden tests are within this cell"
   ]
  },
  {
   "cell_type": "code",
   "execution_count": 94,
   "metadata": {
    "deletable": false,
    "editable": false,
    "nbgrader": {
     "cell_type": "code",
     "checksum": "62062e373f82f295d8a23d27713a706d",
     "grade": true,
     "grade_id": "cell-9d02637f476a9e80",
     "locked": true,
     "points": 1,
     "schema_version": 3,
     "solution": false
    }
   },
   "outputs": [
    {
     "name": "stdout",
     "output_type": "stream",
     "text": [
      "archaeology\n"
     ]
    }
   ],
   "source": [
    "answer = get_analogy('biologists', 'biology', 'archaeologists')\n",
    "print(answer)\n",
    "#hidden tests are within this cell"
   ]
  },
  {
   "cell_type": "markdown",
   "metadata": {},
   "source": [
    "Not too bad! It seems to have learned something about what the fields and people do!"
   ]
  },
  {
   "cell_type": "markdown",
   "metadata": {},
   "source": [
    "## Reflection\n",
    "\n",
    "Which tasks surprised you more? These results show that our model knows a surprising amount. What else does it know? Feel free to try out new types of relationships and words. Keep in mind that it only knows about information in relationship to people since we've trained it on biographies. \n",
    "\n",
    "One thing we didn't try was training our model with multi-word expressions (MWEs). Gensim actually supports finding these for us using its `Phrases` package when processing the corpus and learning word vectors. This would let us compare things like `United States` as a phrase. Which kinds of MWEs would be fun to test out? Feel free to retrain the model here and test out new analogies on MWEs; if you find interest ones, post on course Slack."
   ]
  },
  {
   "cell_type": "code",
   "execution_count": null,
   "metadata": {},
   "outputs": [],
   "source": []
  }
 ],
 "metadata": {
  "coursera": {
   "schema_names": [
    "mads_applied_natural_language_processing_v2_assignment2_part1"
   ]
  },
  "kernelspec": {
   "display_name": "Python 3 (ipykernel)",
   "language": "python",
   "name": "python3"
  },
  "language_info": {
   "codemirror_mode": {
    "name": "ipython",
    "version": 3
   },
   "file_extension": ".py",
   "mimetype": "text/x-python",
   "name": "python",
   "nbconvert_exporter": "python",
   "pygments_lexer": "ipython3",
   "version": "3.8.10"
  }
 },
 "nbformat": 4,
 "nbformat_minor": 2
}
